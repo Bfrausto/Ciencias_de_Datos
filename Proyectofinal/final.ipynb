{
 "cells": [
  {
   "cell_type": "code",
   "execution_count": 2,
   "metadata": {},
   "outputs": [
    {
     "name": "stdout",
     "output_type": "stream",
     "text": [
      "Tamaño del la muestra 612\n"
     ]
    },
    {
     "data": {
      "text/html": [
       "<div>\n",
       "<style scoped>\n",
       "    .dataframe tbody tr th:only-of-type {\n",
       "        vertical-align: middle;\n",
       "    }\n",
       "\n",
       "    .dataframe tbody tr th {\n",
       "        vertical-align: top;\n",
       "    }\n",
       "\n",
       "    .dataframe thead th {\n",
       "        text-align: right;\n",
       "    }\n",
       "</style>\n",
       "<table border=\"1\" class=\"dataframe\">\n",
       "  <thead>\n",
       "    <tr style=\"text-align: right;\">\n",
       "      <th></th>\n",
       "      <th>web-scraper-order</th>\n",
       "      <th>web-scraper-start-url</th>\n",
       "      <th>Date</th>\n",
       "      <th>Open</th>\n",
       "      <th>High</th>\n",
       "      <th>Low</th>\n",
       "      <th>Close*</th>\n",
       "      <th>name</th>\n",
       "    </tr>\n",
       "  </thead>\n",
       "  <tbody>\n",
       "    <tr>\n",
       "      <th>0</th>\n",
       "      <td>1620589835-1287</td>\n",
       "      <td>https://finance.yahoo.com/quote/FB/history?per...</td>\n",
       "      <td>2016-04-01</td>\n",
       "      <td>113.75</td>\n",
       "      <td>120.79</td>\n",
       "      <td>106.31</td>\n",
       "      <td>117.58</td>\n",
       "      <td>Facebook, Inc. (FB)</td>\n",
       "    </tr>\n",
       "    <tr>\n",
       "      <th>1</th>\n",
       "      <td>1620589819-928</td>\n",
       "      <td>https://finance.yahoo.com/quote/NFLX/history?p...</td>\n",
       "      <td>2011-07-01</td>\n",
       "      <td>37.44</td>\n",
       "      <td>43.54</td>\n",
       "      <td>35.92</td>\n",
       "      <td>38</td>\n",
       "      <td>Netflix, Inc. (NFLX)</td>\n",
       "    </tr>\n",
       "    <tr>\n",
       "      <th>2</th>\n",
       "      <td>1620589819-817</td>\n",
       "      <td>https://finance.yahoo.com/quote/NFLX/history?p...</td>\n",
       "      <td>2020-09-01</td>\n",
       "      <td>532.6</td>\n",
       "      <td>557.39</td>\n",
       "      <td>458.6</td>\n",
       "      <td>500.03</td>\n",
       "      <td>Netflix, Inc. (NFLX)</td>\n",
       "    </tr>\n",
       "    <tr>\n",
       "      <th>3</th>\n",
       "      <td>1620589824-1097</td>\n",
       "      <td>https://finance.yahoo.com/quote/AAPL/history?p...</td>\n",
       "      <td>2011-02-01</td>\n",
       "      <td>12.19</td>\n",
       "      <td>13.03</td>\n",
       "      <td>12.06</td>\n",
       "      <td>12.61</td>\n",
       "      <td>Apple Inc. (AAPL)</td>\n",
       "    </tr>\n",
       "    <tr>\n",
       "      <th>4</th>\n",
       "      <td>1620589835-1293</td>\n",
       "      <td>https://finance.yahoo.com/quote/FB/history?per...</td>\n",
       "      <td>2015-10-01</td>\n",
       "      <td>90.05</td>\n",
       "      <td>105.12</td>\n",
       "      <td>88.36</td>\n",
       "      <td>101.97</td>\n",
       "      <td>Facebook, Inc. (FB)</td>\n",
       "    </tr>\n",
       "    <tr>\n",
       "      <th>...</th>\n",
       "      <td>...</td>\n",
       "      <td>...</td>\n",
       "      <td>...</td>\n",
       "      <td>...</td>\n",
       "      <td>...</td>\n",
       "      <td>...</td>\n",
       "      <td>...</td>\n",
       "      <td>...</td>\n",
       "    </tr>\n",
       "    <tr>\n",
       "      <th>607</th>\n",
       "      <td>1620589814-744</td>\n",
       "      <td>https://finance.yahoo.com/quote/GOOG/history?p...</td>\n",
       "      <td>2016-02-01</td>\n",
       "      <td>750.46</td>\n",
       "      <td>789.87</td>\n",
       "      <td>663.06</td>\n",
       "      <td>697.77</td>\n",
       "      <td>Alphabet Inc. (GOOG)</td>\n",
       "    </tr>\n",
       "    <tr>\n",
       "      <th>608</th>\n",
       "      <td>1620589824-1075</td>\n",
       "      <td>https://finance.yahoo.com/quote/AAPL/history?p...</td>\n",
       "      <td>2012-11-01</td>\n",
       "      <td>21.36</td>\n",
       "      <td>21.54</td>\n",
       "      <td>18.06</td>\n",
       "      <td>20.9</td>\n",
       "      <td>Apple Inc. (AAPL)</td>\n",
       "    </tr>\n",
       "    <tr>\n",
       "      <th>609</th>\n",
       "      <td>1620589835-1236</td>\n",
       "      <td>https://finance.yahoo.com/quote/FB/history?per...</td>\n",
       "      <td>2020-07-01</td>\n",
       "      <td>228.5</td>\n",
       "      <td>255.85</td>\n",
       "      <td>226.9</td>\n",
       "      <td>253.67</td>\n",
       "      <td>Facebook, Inc. (FB)</td>\n",
       "    </tr>\n",
       "    <tr>\n",
       "      <th>610</th>\n",
       "      <td>1620589819-917</td>\n",
       "      <td>https://finance.yahoo.com/quote/NFLX/history?p...</td>\n",
       "      <td>2012-06-01</td>\n",
       "      <td>8.71</td>\n",
       "      <td>10.07</td>\n",
       "      <td>8.67</td>\n",
       "      <td>9.78</td>\n",
       "      <td>Netflix, Inc. (NFLX)</td>\n",
       "    </tr>\n",
       "    <tr>\n",
       "      <th>611</th>\n",
       "      <td>1620589830-1184</td>\n",
       "      <td>https://finance.yahoo.com/quote/AMZN/history?p...</td>\n",
       "      <td>2014-05-01</td>\n",
       "      <td>304.13</td>\n",
       "      <td>314.87</td>\n",
       "      <td>284.38</td>\n",
       "      <td>312.55</td>\n",
       "      <td>Amazon.com, Inc. (AMZN)</td>\n",
       "    </tr>\n",
       "  </tbody>\n",
       "</table>\n",
       "<p>612 rows × 8 columns</p>\n",
       "</div>"
      ],
      "text/plain": [
       "    web-scraper-order                              web-scraper-start-url  \\\n",
       "0     1620589835-1287  https://finance.yahoo.com/quote/FB/history?per...   \n",
       "1      1620589819-928  https://finance.yahoo.com/quote/NFLX/history?p...   \n",
       "2      1620589819-817  https://finance.yahoo.com/quote/NFLX/history?p...   \n",
       "3     1620589824-1097  https://finance.yahoo.com/quote/AAPL/history?p...   \n",
       "4     1620589835-1293  https://finance.yahoo.com/quote/FB/history?per...   \n",
       "..                ...                                                ...   \n",
       "607    1620589814-744  https://finance.yahoo.com/quote/GOOG/history?p...   \n",
       "608   1620589824-1075  https://finance.yahoo.com/quote/AAPL/history?p...   \n",
       "609   1620589835-1236  https://finance.yahoo.com/quote/FB/history?per...   \n",
       "610    1620589819-917  https://finance.yahoo.com/quote/NFLX/history?p...   \n",
       "611   1620589830-1184  https://finance.yahoo.com/quote/AMZN/history?p...   \n",
       "\n",
       "          Date    Open    High     Low  Close*                     name  \n",
       "0   2016-04-01  113.75  120.79  106.31  117.58      Facebook, Inc. (FB)  \n",
       "1   2011-07-01   37.44   43.54   35.92      38     Netflix, Inc. (NFLX)  \n",
       "2   2020-09-01   532.6  557.39   458.6  500.03     Netflix, Inc. (NFLX)  \n",
       "3   2011-02-01   12.19   13.03   12.06   12.61        Apple Inc. (AAPL)  \n",
       "4   2015-10-01   90.05  105.12   88.36  101.97      Facebook, Inc. (FB)  \n",
       "..         ...     ...     ...     ...     ...                      ...  \n",
       "607 2016-02-01  750.46  789.87  663.06  697.77     Alphabet Inc. (GOOG)  \n",
       "608 2012-11-01   21.36   21.54   18.06    20.9        Apple Inc. (AAPL)  \n",
       "609 2020-07-01   228.5  255.85   226.9  253.67      Facebook, Inc. (FB)  \n",
       "610 2012-06-01    8.71   10.07    8.67    9.78     Netflix, Inc. (NFLX)  \n",
       "611 2014-05-01  304.13  314.87  284.38  312.55  Amazon.com, Inc. (AMZN)  \n",
       "\n",
       "[612 rows x 8 columns]"
      ]
     },
     "execution_count": 2,
     "metadata": {},
     "output_type": "execute_result"
    }
   ],
   "source": [
    "import pandas as pd\n",
    "from datetime import datetime\n",
    "import matplotlib.pyplot as plt\n",
    "df = pd.read_csv('faang-10-l.csv')\n",
    "\n",
    "#df = pd.read_csv('stock-empresas10.csv')\n",
    "\n",
    "#df=df.set_index('name')\n",
    "\n",
    "print('Tamaño del la muestra {}'.format(df['Open'].count()))\n",
    "\n",
    "#delimitar 2020\n",
    "df['Date']=pd.to_datetime(df['Date'])\n",
    "\n",
    "#delimitar 2021 hasta el 12 de marzo\n",
    "\n",
    "df"
   ]
  },
  {
   "cell_type": "code",
   "execution_count": 4,
   "metadata": {},
   "outputs": [
    {
     "name": "stdout",
     "output_type": "stream",
     "text": [
      "\n",
      "Facebook abrió con 28.89 en el  2012-06-01 00:00:00 cerró con 319.08 en el 2021-05-07 00:00:00 con un crecimiento del 1104.4652128764278% \n"
     ]
    }
   ],
   "source": [
    "data=df.loc[df[\"name\"]=='Facebook, Inc. (FB)'].replace(',', '', regex=True)\n",
    "min=data.loc[data[\"Date\"]==data[\"Date\"].min()].replace(',', '', regex=True)\n",
    "max=data.loc[data[\"Date\"]==data[\"Date\"].max()].replace(',', '', regex=True)\n",
    "print('\\nFacebook abrió con {} en el  {} cerró con {} en el {} con un crecimiento del {}% '.\n",
    "      format(min['Open'].iloc[0],\n",
    "             min['Date'].iloc[0],\n",
    "             max['Close*'].iloc[0],\n",
    "             max['Date'].iloc[0],\n",
    "             float(max['Close*'].iloc[0])*100/float(min['Open'].iloc[0])))"
   ]
  },
  {
   "cell_type": "code",
   "execution_count": 5,
   "metadata": {},
   "outputs": [],
   "source": [
    " data=data.sort_values(by='Date') \n",
    "data[\"Close\"]=data[\"Close*\"].astype('float')\n",
    "data=data.set_index('Date')"
   ]
  },
  {
   "cell_type": "code",
   "execution_count": 6,
   "metadata": {},
   "outputs": [
    {
     "data": {
      "text/plain": [
       "Text(0.5, 0, 'Fecha')"
      ]
     },
     "execution_count": 6,
     "metadata": {},
     "output_type": "execute_result"
    },
    {
     "data": {
      "image/png": "[encoded data removed]",
      "text/plain": [
       "<Figure size 432x288 with 1 Axes>"
      ]
     },
     "metadata": {
      "needs_background": "light"
     },
     "output_type": "display_data"
    }
   ],
   "source": [
    "\n",
    "plot=data.plot()\n",
    "plot.set_ylabel(\"Valor de la Acción\")\n",
    "plot.set_xlabel(\"Fecha\")"
   ]
  },
  {
   "cell_type": "code",
   "execution_count": 7,
   "metadata": {},
   "outputs": [
    {
     "name": "stdout",
     "output_type": "stream",
     "text": [
      "Amazon abrió con 181.37 en el  2011-01-01 00:00:00 cerró con 3291.61 en el 2021-05-07 00:00:00 con un crecimiento del 1814.8591277499036% \n"
     ]
    }
   ],
   "source": [
    " data=df.loc[df[\"name\"]=='Amazon.com, Inc. (AMZN)'].replace(',', '', regex=True)\n",
    "min=data.loc[data[\"Date\"]==data[\"Date\"].min()].replace(',', '', regex=True)\n",
    "max=data.loc[data[\"Date\"]==data[\"Date\"].max()].replace(',', '', regex=True)\n",
    "\n",
    "print('Amazon abrió con {} en el  {} cerró con {} en el {} con un crecimiento del {}% '.\n",
    "      format(min['Open'].iloc[0],\n",
    "             min['Date'].iloc[0],\n",
    "             max['Close*'].iloc[0],\n",
    "             max['Date'].iloc[0],\n",
    "             float(max['Close*'].iloc[0])*100/float(min['Open'].iloc[0])))"
   ]
  },
  {
   "cell_type": "code",
   "execution_count": 8,
   "metadata": {},
   "outputs": [],
   "source": [
    "\n",
    "data[\"Close\"]=data[\"Close*\"].astype('float')\n",
    "data=data.set_index('Date')"
   ]
  },
  {
   "cell_type": "code",
   "execution_count": 9,
   "metadata": {},
   "outputs": [
    {
     "data": {
      "text/plain": [
       "Text(0.5, 0, 'Fecha')"
      ]
     },
     "execution_count": 9,
     "metadata": {},
     "output_type": "execute_result"
    },
    {
     "data": {
      "image/png": "[encoded data removed]",
      "text/plain": [
       "<Figure size 432x288 with 1 Axes>"
      ]
     },
     "metadata": {
      "needs_background": "light"
     },
     "output_type": "display_data"
    }
   ],
   "source": [
    "\n",
    "plot=data.plot()\n",
    "plot.set_ylabel(\"Valor de la Acción\")\n",
    "plot.set_xlabel(\"Fecha\")"
   ]
  },
  {
   "cell_type": "code",
   "execution_count": 10,
   "metadata": {},
   "outputs": [
    {
     "name": "stdout",
     "output_type": "stream",
     "text": [
      "\n",
      "Apple abrió con 11.63 en el  2011-01-01 00:00:00 cerró con 130.21 en el 2021-05-07 00:00:00 con un crecimiento del 1119.6044711951847% \n"
     ]
    }
   ],
   "source": [
    " data=df.loc[df[\"name\"]=='Apple Inc. (AAPL)'].replace(',', '', regex=True)\n",
    "min=data.loc[data[\"Date\"]==data[\"Date\"].min()].replace(',', '', regex=True)\n",
    "max=data.loc[data[\"Date\"]==data[\"Date\"].max()].replace(',', '', regex=True)\n",
    "\n",
    "print('\\nApple abrió con {} en el  {} cerró con {} en el {} con un crecimiento del {}% '.\n",
    "      format(min['Open'].iloc[0],\n",
    "             min['Date'].iloc[0],\n",
    "             max['Close*'].iloc[0],\n",
    "             max['Date'].iloc[0],\n",
    "             float(max['Close*'].iloc[0])*100/float(min['Open'].iloc[0])))"
   ]
  },
  {
   "cell_type": "code",
   "execution_count": 11,
   "metadata": {},
   "outputs": [],
   "source": [
    "\n",
    "data[\"Close\"]=data[\"Close*\"].astype('float')\n",
    "data=data.set_index('Date')"
   ]
  },
  {
   "cell_type": "code",
   "execution_count": 12,
   "metadata": {},
   "outputs": [
    {
     "data": {
      "text/plain": [
       "Text(0.5, 0, 'Fecha')"
      ]
     },
     "execution_count": 12,
     "metadata": {},
     "output_type": "execute_result"
    },
    {
     "data": {
      "image/png": "[encoded data removed]",
      "text/plain": [
       "<Figure size 432x288 with 1 Axes>"
      ]
     },
     "metadata": {
      "needs_background": "light"
     },
     "output_type": "display_data"
    }
   ],
   "source": [
    "plot=data.plot()\n",
    "plot.set_ylabel(\"Valor de la Acción\")\n",
    "plot.set_xlabel(\"Fecha\")"
   ]
  },
  {
   "cell_type": "code",
   "execution_count": 13,
   "metadata": {},
   "outputs": [
    {
     "name": "stdout",
     "output_type": "stream",
     "text": [
      "Netflix abrió con 25 en el  2011-01-01 00:00:00 cerró con 503.84 en el 2021-05-07 00:00:00 con un crecimiento del 2015.36% \n"
     ]
    }
   ],
   "source": [
    " data=df.loc[df[\"name\"]=='Netflix, Inc. (NFLX)'].replace(',', '', regex=True)\n",
    "min=data.loc[data[\"Date\"]==data[\"Date\"].min()].replace(',', '', regex=True)\n",
    "max=data.loc[data[\"Date\"]==data[\"Date\"].max()].replace(',', '', regex=True)\n",
    "\n",
    "print('Netflix abrió con {} en el  {} cerró con {} en el {} con un crecimiento del {}% '.\n",
    "      format(min['Open'].iloc[0],\n",
    "             min['Date'].iloc[0],\n",
    "             max['Close*'].iloc[0],\n",
    "             max['Date'].iloc[0],\n",
    "             float(max['Close*'].iloc[0])*100/float(min['Open'].iloc[0])))"
   ]
  },
  {
   "cell_type": "code",
   "execution_count": 14,
   "metadata": {},
   "outputs": [],
   "source": [
    "data[\"Close\"]=data[\"Close*\"].astype('float')\n",
    "data=data.set_index('Date')"
   ]
  },
  {
   "cell_type": "code",
   "execution_count": 15,
   "metadata": {},
   "outputs": [
    {
     "data": {
      "text/plain": [
       "Text(0.5, 0, 'Fecha')"
      ]
     },
     "execution_count": 15,
     "metadata": {},
     "output_type": "execute_result"
    },
    {
     "data": {
      "image/png": "[encoded data removed]",
      "text/plain": [
       "<Figure size 432x288 with 1 Axes>"
      ]
     },
     "metadata": {
      "needs_background": "light"
     },
     "output_type": "display_data"
    }
   ],
   "source": [
    "plot=data.plot()\n",
    "plot.set_ylabel(\"Valor de la Acción\")\n",
    "plot.set_xlabel(\"Fecha\")"
   ]
  },
  {
   "cell_type": "code",
   "execution_count": 16,
   "metadata": {},
   "outputs": [
    {
     "name": "stdout",
     "output_type": "stream",
     "text": [
      "Google abrió con 297.13 en el  2011-01-01 00:00:00 cerró con 2398.69 en el 2021-05-07 00:00:00 con un crecimiento del 807.2863729680612% \n"
     ]
    }
   ],
   "source": [
    " data=df.loc[df[\"name\"]=='Alphabet Inc. (GOOG)'].replace(',', '', regex=True)\n",
    "min=data.loc[data[\"Date\"]==data[\"Date\"].min()].replace(',', '', regex=True)\n",
    "max=data.loc[data[\"Date\"]==data[\"Date\"].max()].replace(',', '', regex=True)\n",
    "\n",
    "print('Google abrió con {} en el  {} cerró con {} en el {} con un crecimiento del {}% '.\n",
    "      format(min['Open'].iloc[0],\n",
    "             min['Date'].iloc[0],\n",
    "             max['Close*'].iloc[0],\n",
    "             max['Date'].iloc[0],\n",
    "             float(max['Close*'].iloc[0])*100/float(min['Open'].iloc[0])))"
   ]
  },
  {
   "cell_type": "code",
   "execution_count": 17,
   "metadata": {},
   "outputs": [],
   "source": [
    "data[\"Close\"]=data[\"Close*\"].astype('float')\n",
    "data=data.set_index('Date')"
   ]
  },
  {
   "cell_type": "code",
   "execution_count": 18,
   "metadata": {},
   "outputs": [
    {
     "data": {
      "text/plain": [
       "Text(0.5, 0, 'Fecha')"
      ]
     },
     "execution_count": 18,
     "metadata": {},
     "output_type": "execute_result"
    },
    {
     "data": {
      "image/png": "[encoded data removed]",
      "text/plain": [
       "<Figure size 432x288 with 1 Axes>"
      ]
     },
     "metadata": {
      "needs_background": "light"
     },
     "output_type": "display_data"
    }
   ],
   "source": [
    "plot=data.plot()\n",
    "plot.set_ylabel(\"Valor de la Acción\")\n",
    "plot.set_xlabel(\"Fecha\")"
   ]
  },
  {
   "cell_type": "code",
   "execution_count": 14,
   "metadata": {},
   "outputs": [
    {
     "data": {
      "text/html": [
       "<div>\n",
       "<style scoped>\n",
       "    .dataframe tbody tr th:only-of-type {\n",
       "        vertical-align: middle;\n",
       "    }\n",
       "\n",
       "    .dataframe tbody tr th {\n",
       "        vertical-align: top;\n",
       "    }\n",
       "\n",
       "    .dataframe thead th {\n",
       "        text-align: right;\n",
       "    }\n",
       "</style>\n",
       "<table border=\"1\" class=\"dataframe\">\n",
       "  <thead>\n",
       "    <tr style=\"text-align: right;\">\n",
       "      <th></th>\n",
       "      <th>web-scraper-order</th>\n",
       "      <th>web-scraper-start-url</th>\n",
       "      <th>Nombre</th>\n",
       "      <th>Margen</th>\n",
       "    </tr>\n",
       "  </thead>\n",
       "  <tbody>\n",
       "    <tr>\n",
       "      <th>15</th>\n",
       "      <td>1620619795-1352</td>\n",
       "      <td>https://finance.yahoo.com/quote/PLUS.L/key-sta...</td>\n",
       "      <td>Plus500 Ltd. (PLUS.L)</td>\n",
       "      <td>57.78</td>\n",
       "    </tr>\n",
       "  </tbody>\n",
       "</table>\n",
       "</div>"
      ],
      "text/plain": [
       "   web-scraper-order                              web-scraper-start-url  \\\n",
       "15   1620619795-1352  https://finance.yahoo.com/quote/PLUS.L/key-sta...   \n",
       "\n",
       "                   Nombre  Margen  \n",
       "15  Plus500 Ltd. (PLUS.L)   57.78  "
      ]
     },
     "execution_count": 14,
     "metadata": {},
     "output_type": "execute_result"
    }
   ],
   "source": [
    "df = pd.read_csv('empresas.csv')\n",
    "df[\"Margen\"]=df['Margen'].replace('%', '', regex=True).astype(float)\n",
    "data=df.loc[df[\"Margen\"]==df['Margen'].max()]\n",
    "data"
   ]
  },
  {
   "cell_type": "code",
   "execution_count": 11,
   "metadata": {},
   "outputs": [
    {
     "data": {
      "text/html": [
       "<div>\n",
       "<style scoped>\n",
       "    .dataframe tbody tr th:only-of-type {\n",
       "        vertical-align: middle;\n",
       "    }\n",
       "\n",
       "    .dataframe tbody tr th {\n",
       "        vertical-align: top;\n",
       "    }\n",
       "\n",
       "    .dataframe thead th {\n",
       "        text-align: right;\n",
       "    }\n",
       "</style>\n",
       "<table border=\"1\" class=\"dataframe\">\n",
       "  <thead>\n",
       "    <tr style=\"text-align: right;\">\n",
       "      <th></th>\n",
       "      <th>web-scraper-order</th>\n",
       "      <th>web-scraper-start-url</th>\n",
       "      <th>Margen</th>\n",
       "    </tr>\n",
       "    <tr>\n",
       "      <th>Symbol</th>\n",
       "      <th></th>\n",
       "      <th></th>\n",
       "      <th></th>\n",
       "    </tr>\n",
       "  </thead>\n",
       "  <tbody>\n",
       "    <tr>\n",
       "      <th>(PLUS.L)</th>\n",
       "      <td>1620619795-1352</td>\n",
       "      <td>https://finance.yahoo.com/quote/PLUS.L/key-sta...</td>\n",
       "      <td>57.78</td>\n",
       "    </tr>\n",
       "    <tr>\n",
       "      <th>(IGG.L)</th>\n",
       "      <td>1620619791-1351</td>\n",
       "      <td>https://finance.yahoo.com/quote/IGG.L/key-stat...</td>\n",
       "      <td>42.66</td>\n",
       "    </tr>\n",
       "    <tr>\n",
       "      <th>(MSFT)</th>\n",
       "      <td>1620619834-1364</td>\n",
       "      <td>https://finance.yahoo.com/quote/MSFT/key-stati...</td>\n",
       "      <td>35.02</td>\n",
       "    </tr>\n",
       "    <tr>\n",
       "      <th>(NVDA)</th>\n",
       "      <td>1620619820-1359</td>\n",
       "      <td>https://finance.yahoo.com/quote/NVDA/key-stati...</td>\n",
       "      <td>25.98</td>\n",
       "    </tr>\n",
       "    <tr>\n",
       "      <th>(COIN)</th>\n",
       "      <td>1620619805-1353</td>\n",
       "      <td>https://finance.yahoo.com/quote/COIN/key-stati...</td>\n",
       "      <td>25.28</td>\n",
       "    </tr>\n",
       "    <tr>\n",
       "      <th>(AMD)</th>\n",
       "      <td>1620619818-1358</td>\n",
       "      <td>https://finance.yahoo.com/quote/AMD/key-statis...</td>\n",
       "      <td>25.24</td>\n",
       "    </tr>\n",
       "    <tr>\n",
       "      <th>(BABA)</th>\n",
       "      <td>1620619828-1362</td>\n",
       "      <td>https://finance.yahoo.com/quote/BABA/key-stati...</td>\n",
       "      <td>24.71</td>\n",
       "    </tr>\n",
       "    <tr>\n",
       "      <th>(PYPL)</th>\n",
       "      <td>1620619813-1356</td>\n",
       "      <td>https://finance.yahoo.com/quote/PYPL/key-stati...</td>\n",
       "      <td>22.80</td>\n",
       "    </tr>\n",
       "    <tr>\n",
       "      <th>(2454.TW)</th>\n",
       "      <td>1620619826-1361</td>\n",
       "      <td>https://finance.yahoo.com/quote/2454.TW/key-st...</td>\n",
       "      <td>16.46</td>\n",
       "    </tr>\n",
       "    <tr>\n",
       "      <th>(005930.KS)</th>\n",
       "      <td>1620619808-1354</td>\n",
       "      <td>https://finance.yahoo.com/quote/005930.KS/key-...</td>\n",
       "      <td>11.46</td>\n",
       "    </tr>\n",
       "    <tr>\n",
       "      <th>(IRBT)</th>\n",
       "      <td>1620619778-1346</td>\n",
       "      <td>https://finance.yahoo.com/quote/IRBT/key-stati...</td>\n",
       "      <td>11.20</td>\n",
       "    </tr>\n",
       "    <tr>\n",
       "      <th>(AVAV)</th>\n",
       "      <td>1620619768-1342</td>\n",
       "      <td>https://finance.yahoo.com/quote/AVAV/key-stati...</td>\n",
       "      <td>7.58</td>\n",
       "    </tr>\n",
       "    <tr>\n",
       "      <th>(IBM)</th>\n",
       "      <td>1620619838-1365</td>\n",
       "      <td>https://finance.yahoo.com/quote/IBM/key-statis...</td>\n",
       "      <td>7.28</td>\n",
       "    </tr>\n",
       "    <tr>\n",
       "      <th>(0763.HK)</th>\n",
       "      <td>1620619823-1360</td>\n",
       "      <td>https://finance.yahoo.com/quote/0763.HK/key-st...</td>\n",
       "      <td>5.33</td>\n",
       "    </tr>\n",
       "    <tr>\n",
       "      <th>(TSLA)</th>\n",
       "      <td>1620619789-1350</td>\n",
       "      <td>https://finance.yahoo.com/quote/TSLA/key-stati...</td>\n",
       "      <td>3.18</td>\n",
       "    </tr>\n",
       "    <tr>\n",
       "      <th>(000270.KS)</th>\n",
       "      <td>1620619786-1349</td>\n",
       "      <td>https://finance.yahoo.com/quote/000270.KS/key-...</td>\n",
       "      <td>2.51</td>\n",
       "    </tr>\n",
       "    <tr>\n",
       "      <th>(1958.HK)</th>\n",
       "      <td>1620619783-1348</td>\n",
       "      <td>https://finance.yahoo.com/quote/1958.HK/key-st...</td>\n",
       "      <td>1.94</td>\n",
       "    </tr>\n",
       "    <tr>\n",
       "      <th>(HYMTF)</th>\n",
       "      <td>1620619770-1343</td>\n",
       "      <td>https://finance.yahoo.com/quote/HYMTF/key-stat...</td>\n",
       "      <td>1.37</td>\n",
       "    </tr>\n",
       "    <tr>\n",
       "      <th>(SPCE)</th>\n",
       "      <td>1620619755-1337</td>\n",
       "      <td>https://finance.yahoo.com/quote/SPCE/key-stati...</td>\n",
       "      <td>0.00</td>\n",
       "    </tr>\n",
       "    <tr>\n",
       "      <th>(MELI)</th>\n",
       "      <td>1620619810-1355</td>\n",
       "      <td>https://finance.yahoo.com/quote/MELI/key-stati...</td>\n",
       "      <td>-0.29</td>\n",
       "    </tr>\n",
       "    <tr>\n",
       "      <th>(GPRO)</th>\n",
       "      <td>1620619763-1340</td>\n",
       "      <td>https://finance.yahoo.com/quote/GPRO/key-stati...</td>\n",
       "      <td>-1.37</td>\n",
       "    </tr>\n",
       "    <tr>\n",
       "      <th>(MTLS)</th>\n",
       "      <td>1620619747-1334</td>\n",
       "      <td>https://finance.yahoo.com/quote/MTLS/key-stati...</td>\n",
       "      <td>-4.68</td>\n",
       "    </tr>\n",
       "    <tr>\n",
       "      <th>(AYX)</th>\n",
       "      <td>1620619831-1363</td>\n",
       "      <td>https://finance.yahoo.com/quote/AYX/key-statis...</td>\n",
       "      <td>-9.81</td>\n",
       "    </tr>\n",
       "    <tr>\n",
       "      <th>(BA)</th>\n",
       "      <td>1620619758-1338</td>\n",
       "      <td>https://finance.yahoo.com/quote/BA/key-statistics</td>\n",
       "      <td>-20.86</td>\n",
       "    </tr>\n",
       "    <tr>\n",
       "      <th>(DDD)</th>\n",
       "      <td>1620619750-1335</td>\n",
       "      <td>https://finance.yahoo.com/quote/DDD/key-statis...</td>\n",
       "      <td>-26.85</td>\n",
       "    </tr>\n",
       "    <tr>\n",
       "      <th>(UBER)</th>\n",
       "      <td>1620619773-1344</td>\n",
       "      <td>https://finance.yahoo.com/quote/UBER/key-stati...</td>\n",
       "      <td>-36.50</td>\n",
       "    </tr>\n",
       "    <tr>\n",
       "      <th>(U)</th>\n",
       "      <td>1620619815-1357</td>\n",
       "      <td>https://finance.yahoo.com/quote/U/key-statistics</td>\n",
       "      <td>-36.55</td>\n",
       "    </tr>\n",
       "    <tr>\n",
       "      <th>(PAOTF)</th>\n",
       "      <td>1620619765-1341</td>\n",
       "      <td>https://finance.yahoo.com/quote/PAOTF/key-stat...</td>\n",
       "      <td>-67.02</td>\n",
       "    </tr>\n",
       "    <tr>\n",
       "      <th>(SSYS)</th>\n",
       "      <td>1620619753-1336</td>\n",
       "      <td>https://finance.yahoo.com/quote/SSYS/key-stati...</td>\n",
       "      <td>-85.20</td>\n",
       "    </tr>\n",
       "    <tr>\n",
       "      <th>(BOTZ)</th>\n",
       "      <td>1620619781-1347</td>\n",
       "      <td>https://finance.yahoo.com/quote/BOTZ/key-stati...</td>\n",
       "      <td>NaN</td>\n",
       "    </tr>\n",
       "    <tr>\n",
       "      <th>(ARKQ)</th>\n",
       "      <td>1620619776-1345</td>\n",
       "      <td>https://finance.yahoo.com/quote/ARKQ/key-stati...</td>\n",
       "      <td>NaN</td>\n",
       "    </tr>\n",
       "    <tr>\n",
       "      <th>(ARKX)</th>\n",
       "      <td>1620619760-1339</td>\n",
       "      <td>https://finance.yahoo.com/quote/ARKX/key-stati...</td>\n",
       "      <td>NaN</td>\n",
       "    </tr>\n",
       "  </tbody>\n",
       "</table>\n",
       "</div>"
      ],
      "text/plain": [
       "            web-scraper-order  \\\n",
       "Symbol                          \n",
       "(PLUS.L)      1620619795-1352   \n",
       "(IGG.L)       1620619791-1351   \n",
       "(MSFT)        1620619834-1364   \n",
       "(NVDA)        1620619820-1359   \n",
       "(COIN)        1620619805-1353   \n",
       "(AMD)         1620619818-1358   \n",
       "(BABA)        1620619828-1362   \n",
       "(PYPL)        1620619813-1356   \n",
       "(2454.TW)     1620619826-1361   \n",
       "(005930.KS)   1620619808-1354   \n",
       "(IRBT)        1620619778-1346   \n",
       "(AVAV)        1620619768-1342   \n",
       "(IBM)         1620619838-1365   \n",
       "(0763.HK)     1620619823-1360   \n",
       "(TSLA)        1620619789-1350   \n",
       "(000270.KS)   1620619786-1349   \n",
       "(1958.HK)     1620619783-1348   \n",
       "(HYMTF)       1620619770-1343   \n",
       "(SPCE)        1620619755-1337   \n",
       "(MELI)        1620619810-1355   \n",
       "(GPRO)        1620619763-1340   \n",
       "(MTLS)        1620619747-1334   \n",
       "(AYX)         1620619831-1363   \n",
       "(BA)          1620619758-1338   \n",
       "(DDD)         1620619750-1335   \n",
       "(UBER)        1620619773-1344   \n",
       "(U)           1620619815-1357   \n",
       "(PAOTF)       1620619765-1341   \n",
       "(SSYS)        1620619753-1336   \n",
       "(BOTZ)        1620619781-1347   \n",
       "(ARKQ)        1620619776-1345   \n",
       "(ARKX)        1620619760-1339   \n",
       "\n",
       "                                         web-scraper-start-url  Margen  \n",
       "Symbol                                                                  \n",
       "(PLUS.L)     https://finance.yahoo.com/quote/PLUS.L/key-sta...   57.78  \n",
       "(IGG.L)      https://finance.yahoo.com/quote/IGG.L/key-stat...   42.66  \n",
       "(MSFT)       https://finance.yahoo.com/quote/MSFT/key-stati...   35.02  \n",
       "(NVDA)       https://finance.yahoo.com/quote/NVDA/key-stati...   25.98  \n",
       "(COIN)       https://finance.yahoo.com/quote/COIN/key-stati...   25.28  \n",
       "(AMD)        https://finance.yahoo.com/quote/AMD/key-statis...   25.24  \n",
       "(BABA)       https://finance.yahoo.com/quote/BABA/key-stati...   24.71  \n",
       "(PYPL)       https://finance.yahoo.com/quote/PYPL/key-stati...   22.80  \n",
       "(2454.TW)    https://finance.yahoo.com/quote/2454.TW/key-st...   16.46  \n",
       "(005930.KS)  https://finance.yahoo.com/quote/005930.KS/key-...   11.46  \n",
       "(IRBT)       https://finance.yahoo.com/quote/IRBT/key-stati...   11.20  \n",
       "(AVAV)       https://finance.yahoo.com/quote/AVAV/key-stati...    7.58  \n",
       "(IBM)        https://finance.yahoo.com/quote/IBM/key-statis...    7.28  \n",
       "(0763.HK)    https://finance.yahoo.com/quote/0763.HK/key-st...    5.33  \n",
       "(TSLA)       https://finance.yahoo.com/quote/TSLA/key-stati...    3.18  \n",
       "(000270.KS)  https://finance.yahoo.com/quote/000270.KS/key-...    2.51  \n",
       "(1958.HK)    https://finance.yahoo.com/quote/1958.HK/key-st...    1.94  \n",
       "(HYMTF)      https://finance.yahoo.com/quote/HYMTF/key-stat...    1.37  \n",
       "(SPCE)       https://finance.yahoo.com/quote/SPCE/key-stati...    0.00  \n",
       "(MELI)       https://finance.yahoo.com/quote/MELI/key-stati...   -0.29  \n",
       "(GPRO)       https://finance.yahoo.com/quote/GPRO/key-stati...   -1.37  \n",
       "(MTLS)       https://finance.yahoo.com/quote/MTLS/key-stati...   -4.68  \n",
       "(AYX)        https://finance.yahoo.com/quote/AYX/key-statis...   -9.81  \n",
       "(BA)         https://finance.yahoo.com/quote/BA/key-statistics  -20.86  \n",
       "(DDD)        https://finance.yahoo.com/quote/DDD/key-statis...  -26.85  \n",
       "(UBER)       https://finance.yahoo.com/quote/UBER/key-stati...  -36.50  \n",
       "(U)           https://finance.yahoo.com/quote/U/key-statistics  -36.55  \n",
       "(PAOTF)      https://finance.yahoo.com/quote/PAOTF/key-stat...  -67.02  \n",
       "(SSYS)       https://finance.yahoo.com/quote/SSYS/key-stati...  -85.20  \n",
       "(BOTZ)       https://finance.yahoo.com/quote/BOTZ/key-stati...     NaN  \n",
       "(ARKQ)       https://finance.yahoo.com/quote/ARKQ/key-stati...     NaN  \n",
       "(ARKX)       https://finance.yahoo.com/quote/ARKX/key-stati...     NaN  "
      ]
     },
     "execution_count": 11,
     "metadata": {},
     "output_type": "execute_result"
    }
   ],
   "source": [
    "df=df.sort_values(by='Margen', ascending=False)\n",
    "df"
   ]
  },
  {
   "cell_type": "code",
   "execution_count": null,
   "metadata": {},
   "outputs": [],
   "source": [
    "print('Tamaño del la muestra {}'.format(df['Margen'].count()))"
   ]
  },
  {
   "cell_type": "code",
   "execution_count": 5,
   "metadata": {},
   "outputs": [
    {
     "data": {
      "text/plain": [
       "<AxesSubplot:xlabel='Symbol'>"
      ]
     },
     "execution_count": 5,
     "metadata": {},
     "output_type": "execute_result"
    },
    {
     "data": {
      "image/png": "[encoded data removed]",
      "text/plain": [
       "<Figure size 432x288 with 1 Axes>"
      ]
     },
     "metadata": {
      "needs_background": "light"
     },
     "output_type": "display_data"
    }
   ],
   "source": [
    "df = pd.read_csv('empresas-symbol.csv')\n",
    "df[\"Margen\"]=df['Margen'].replace('%', '', regex=True).astype(float)\n",
    "df.sort_values(by='Margen', ascending=False)\n",
    "df=df.set_index('Symbol')\n",
    "df.plot.bar()"
   ]
  },
  {
   "cell_type": "code",
   "execution_count": 12,
   "metadata": {},
   "outputs": [
    {
     "data": {
      "text/plain": [
       "<AxesSubplot:xlabel='Symbol'>"
      ]
     },
     "execution_count": 12,
     "metadata": {},
     "output_type": "execute_result"
    },
    {
     "data": {
      "image/png": "[encoded data removed]",
      "text/plain": [
       "<Figure size 432x288 with 1 Axes>"
      ]
     },
     "metadata": {
      "needs_background": "light"
     },
     "output_type": "display_data"
    }
   ],
   "source": [
    "df.head(5).plot.bar()"
   ]
  },
  {
   "cell_type": "code",
   "execution_count": 16,
   "metadata": {},
   "outputs": [
    {
     "data": {
      "text/html": [
       "<div>\n",
       "<style scoped>\n",
       "    .dataframe tbody tr th:only-of-type {\n",
       "        vertical-align: middle;\n",
       "    }\n",
       "\n",
       "    .dataframe tbody tr th {\n",
       "        vertical-align: top;\n",
       "    }\n",
       "\n",
       "    .dataframe thead th {\n",
       "        text-align: right;\n",
       "    }\n",
       "</style>\n",
       "<table border=\"1\" class=\"dataframe\">\n",
       "  <thead>\n",
       "    <tr style=\"text-align: right;\">\n",
       "      <th></th>\n",
       "      <th>web-scraper-order</th>\n",
       "      <th>web-scraper-start-url</th>\n",
       "      <th>Nombre</th>\n",
       "      <th>Margen</th>\n",
       "    </tr>\n",
       "  </thead>\n",
       "  <tbody>\n",
       "    <tr>\n",
       "      <th>15</th>\n",
       "      <td>1620619795-1352</td>\n",
       "      <td>https://finance.yahoo.com/quote/PLUS.L/key-sta...</td>\n",
       "      <td>Plus500 Ltd. (PLUS.L)</td>\n",
       "      <td>57.78</td>\n",
       "    </tr>\n",
       "    <tr>\n",
       "      <th>16</th>\n",
       "      <td>1620619791-1351</td>\n",
       "      <td>https://finance.yahoo.com/quote/IGG.L/key-stat...</td>\n",
       "      <td>IG Group Holdings plc (IGG.L)</td>\n",
       "      <td>42.66</td>\n",
       "    </tr>\n",
       "    <tr>\n",
       "      <th>3</th>\n",
       "      <td>1620619834-1364</td>\n",
       "      <td>https://finance.yahoo.com/quote/MSFT/key-stati...</td>\n",
       "      <td>Microsoft Corporation (MSFT)</td>\n",
       "      <td>35.02</td>\n",
       "    </tr>\n",
       "    <tr>\n",
       "      <th>22</th>\n",
       "      <td>1620619820-1359</td>\n",
       "      <td>https://finance.yahoo.com/quote/NVDA/key-stati...</td>\n",
       "      <td>NVIDIA Corporation (NVDA)</td>\n",
       "      <td>25.98</td>\n",
       "    </tr>\n",
       "    <tr>\n",
       "      <th>17</th>\n",
       "      <td>1620619805-1353</td>\n",
       "      <td>https://finance.yahoo.com/quote/COIN/key-stati...</td>\n",
       "      <td>Coinbase Global, Inc. (COIN)</td>\n",
       "      <td>25.28</td>\n",
       "    </tr>\n",
       "  </tbody>\n",
       "</table>\n",
       "</div>"
      ],
      "text/plain": [
       "   web-scraper-order                              web-scraper-start-url  \\\n",
       "15   1620619795-1352  https://finance.yahoo.com/quote/PLUS.L/key-sta...   \n",
       "16   1620619791-1351  https://finance.yahoo.com/quote/IGG.L/key-stat...   \n",
       "3    1620619834-1364  https://finance.yahoo.com/quote/MSFT/key-stati...   \n",
       "22   1620619820-1359  https://finance.yahoo.com/quote/NVDA/key-stati...   \n",
       "17   1620619805-1353  https://finance.yahoo.com/quote/COIN/key-stati...   \n",
       "\n",
       "                           Nombre  Margen  \n",
       "15          Plus500 Ltd. (PLUS.L)   57.78  \n",
       "16  IG Group Holdings plc (IGG.L)   42.66  \n",
       "3    Microsoft Corporation (MSFT)   35.02  \n",
       "22      NVIDIA Corporation (NVDA)   25.98  \n",
       "17   Coinbase Global, Inc. (COIN)   25.28  "
      ]
     },
     "execution_count": 16,
     "metadata": {},
     "output_type": "execute_result"
    }
   ],
   "source": [
    "df=df.sort_values(by='Margen', ascending=False)\n",
    "df\n",
    "df.head(5)"
   ]
  },
  {
   "cell_type": "code",
   "execution_count": null,
   "metadata": {},
   "outputs": [],
   "source": []
  }
 ],
 "metadata": {
  "kernelspec": {
   "display_name": "Python 3",
   "language": "python",
   "name": "python3"
  },
  "metadata": {
   "interpreter": {
    "hash": "5c20a641339f4d8f7b05f6c27138b3d3701d6b7646a2678be2a828b47fb7d5d9"
   }
  }
 },
 "nbformat": 4,
 "nbformat_minor": 2
}
