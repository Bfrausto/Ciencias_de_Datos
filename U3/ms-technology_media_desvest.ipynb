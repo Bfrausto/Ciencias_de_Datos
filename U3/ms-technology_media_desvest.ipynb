{
 "cells": [
  {
   "cell_type": "code",
   "execution_count": 2,
   "id": "automated-cylinder",
   "metadata": {},
   "outputs": [
    {
     "name": "stdout",
     "output_type": "stream",
     "text": [
      "La media de las acciones de tecnología es: 92.08292134831461\n",
      "La desviación estándar de las acciones de tecnología es: 134.7912370405673\n"
     ]
    }
   ],
   "source": [
    "import pandas as pd\n",
    "import numpy\n",
    "df = pd.read_csv('csv-ms-technology/stock-ms-technology.csv').astype(str)\n",
    "df\n",
    "df[\"Price (Intraday)\"] = df[\"Price (Intraday)\"].str.replace(\",\", \"\")\n",
    "df[\"Price (Intraday)\"] = pd.to_numeric(df[\"Price (Intraday)\"], errors=\"coerce\")\n",
    "\n",
    "mean=df[\"Price (Intraday)\"].mean()\n",
    "de=numpy.std(df[\"Price (Intraday)\"])\n",
    "\n",
    "print(\"La media de las acciones de tecnología es: {}\".format(mean))\n",
    "print(\"La desviación estándar de las acciones de tecnología es: {}\".format(de))"
   ]
  },
  {
   "cell_type": "code",
   "execution_count": 3,
   "id": "powerful-stocks",
   "metadata": {},
   "outputs": [
    {
     "name": "stdout",
     "output_type": "stream",
     "text": [
      "    web-scraper-order                              web-scraper-start-url  \\\n",
      "0      1616627771-114  https://finance.yahoo.com/screener/predefined/...   \n",
      "1      1616627784-388  https://finance.yahoo.com/screener/predefined/...   \n",
      "2      1616627780-306  https://finance.yahoo.com/screener/predefined/...   \n",
      "3      1616627780-323  https://finance.yahoo.com/screener/predefined/...   \n",
      "4       1616627765-37  https://finance.yahoo.com/screener/predefined/...   \n",
      "..                ...                                                ...   \n",
      "440    1616627780-283  https://finance.yahoo.com/screener/predefined/...   \n",
      "441    1616627776-218  https://finance.yahoo.com/screener/predefined/...   \n",
      "442    1616627776-185  https://finance.yahoo.com/screener/predefined/...   \n",
      "443    1616627784-422  https://finance.yahoo.com/screener/predefined/...   \n",
      "444    1616627771-110  https://finance.yahoo.com/screener/predefined/...   \n",
      "\n",
      "    Symbol                               Name  Price (Intraday) Market Cap  \n",
      "0     EXTR             Extreme Networks, Inc.              8.31     1.028B  \n",
      "1     CRWD         CrowdStrike Holdings, Inc.            181.60    40.656B  \n",
      "2      ARW            Arrow Electronics, Inc.            103.59     7.728B  \n",
      "3      CDK                   CDK Global, Inc.             52.36     6.375B  \n",
      "4     TESS   TESSCO Technologies Incorporated              7.40    65.328M  \n",
      "..     ...                                ...               ...        ...  \n",
      "440   OLED      Universal Display Corporation            222.01    10.459B  \n",
      "441   VRNT                Verint Systems Inc.             45.25     3.145B  \n",
      "442   ALRM           Alarm.com Holdings, Inc.             82.03     4.068B  \n",
      "443     ZI         ZoomInfo Technologies Inc.             54.40    21.281B  \n",
      "444   EBON  Ebang International Holdings Inc.              7.76     1.333B  \n",
      "\n",
      "[445 rows x 6 columns]\n"
     ]
    }
   ],
   "source": [
    "print(df)"
   ]
  },
  {
   "cell_type": "code",
   "execution_count": 4,
   "id": "breeding-forty",
   "metadata": {},
   "outputs": [
    {
     "data": {
      "text/plain": [
       "[<matplotlib.lines.Line2D at 0x7f136bc4f390>]"
      ]
     },
     "execution_count": 4,
     "metadata": {},
     "output_type": "execute_result"
    },
    {
     "data": {
      "image/png": "[encoded data removed]",
      "text/plain": [
       "<Figure size 432x288 with 1 Axes>"
      ]
     },
     "metadata": {
      "needs_background": "light"
     },
     "output_type": "display_data"
    }
   ],
   "source": [
    "import matplotlib.pyplot as plt\n",
    "plt.plot(df[\"Price (Intraday)\"],'bo')"
   ]
  },
  {
   "cell_type": "code",
   "execution_count": null,
   "id": "defined-canberra",
   "metadata": {},
   "outputs": [],
   "source": []
  }
 ],
 "metadata": {
  "kernelspec": {
   "display_name": "Python 3",
   "language": "python",
   "name": "python3"
  },
  "language_info": {
   "codemirror_mode": {
    "name": "ipython",
    "version": 3
   },
   "file_extension": ".py",
   "mimetype": "text/x-python",
   "name": "python",
   "nbconvert_exporter": "python",
   "pygments_lexer": "ipython3",
   "version": "3.6.9"
  }
 },
 "nbformat": 4,
 "nbformat_minor": 5
}
