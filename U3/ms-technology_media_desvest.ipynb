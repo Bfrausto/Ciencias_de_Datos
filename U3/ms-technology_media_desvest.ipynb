{
 "cells": [
  {
   "cell_type": "code",
   "execution_count": 32,
   "id": "automated-cylinder",
   "metadata": {},
   "outputs": [
    {
     "name": "stdout",
     "output_type": "stream",
     "text": [
      "La media de las acciones de tecnología es: 92.08292134831461\n",
      "La desviación estándar de las acciones de tecnología es: 134.7912370405673\n"
     ]
    }
   ],
   "source": [
    "import pandas as pd\n",
    "import numpy\n",
    "df = pd.read_csv('csv-ms-technology/stock-ms-technology.csv').astype(str)\n",
    "\n",
    "df[\"Price (Intraday)\"] = df[\"Price (Intraday)\"].str.replace(\",\", \"\")\n",
    "df[\"Price (Intraday)\"] = pd.to_numeric(df[\"Price (Intraday)\"], errors=\"coerce\")\n",
    "\n",
    "mean=df[\"Price (Intraday)\"].mean()\n",
    "de=numpy.std(df[\"Price (Intraday)\"])\n",
    "\n",
    "print(\"La media de las acciones de tecnología es: {}\".format(mean))\n",
    "print(\"La desviación estándar de las acciones de tecnología es: {}\".format(de))"
   ]
  },
  {
   "cell_type": "code",
   "execution_count": null,
   "id": "powerful-stocks",
   "metadata": {},
   "outputs": [],
   "source": []
  }
 ],
 "metadata": {
  "kernelspec": {
   "display_name": "Python 3",
   "language": "python",
   "name": "python3"
  },
  "language_info": {
   "codemirror_mode": {
    "name": "ipython",
    "version": 3
   },
   "file_extension": ".py",
   "mimetype": "text/x-python",
   "name": "python",
   "nbconvert_exporter": "python",
   "pygments_lexer": "ipython3",
   "version": "3.6.9"
  }
 },
 "nbformat": 4,
 "nbformat_minor": 5
}
