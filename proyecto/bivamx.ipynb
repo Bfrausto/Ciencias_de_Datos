{
 "cells": [
  {
   "cell_type": "code",
   "execution_count": 1,
   "id": "oriental-highlight",
   "metadata": {},
   "outputs": [
    {
     "name": "stdout",
     "output_type": "stream",
     "text": [
      "    web-scraper-order                              web-scraper-start-url  \\\n",
      "0      1615213108-529  https://biva.mx/empresas/emisoras_inscritas/em...   \n",
      "1      1615213100-489  https://biva.mx/empresas/emisoras_inscritas/em...   \n",
      "2      1615213077-383  https://biva.mx/empresas/emisoras_inscritas/em...   \n",
      "3      1615213087-432  https://biva.mx/empresas/emisoras_inscritas/em...   \n",
      "4      1615213094-457  https://biva.mx/empresas/emisoras_inscritas/em...   \n",
      "..                ...                                                ...   \n",
      "327    1615213125-607  https://biva.mx/empresas/emisoras_inscritas/em...   \n",
      "328    1615213135-657  https://biva.mx/empresas/emisoras_inscritas/em...   \n",
      "329    1615213131-638  https://biva.mx/empresas/emisoras_inscritas/em...   \n",
      "330    1615213089-441  https://biva.mx/empresas/emisoras_inscritas/em...   \n",
      "331    1615213094-456  https://biva.mx/empresas/emisoras_inscritas/em...   \n",
      "\n",
      "       Clave                                       Razón Social  \n",
      "0     FIMMCK  THE BANK OF NEW YORK MELLON, S.A., INSTITUCIÓN...  \n",
      "1      GISSA          GRUPO INDUSTRIAL SALTILLO, S.A.B. DE C.V.  \n",
      "2       SARE                       SARE HOLDING, S.A.B. DE C.V.  \n",
      "3    MHNOSCK  BANCO NACIONAL DE MÉXICO, S.A., INTEGRANTE DEL...  \n",
      "4      IGSCK  HSBC MEXICO, S.A., INSTITUCIÓN DE BANCA MÚLTIP...  \n",
      "..       ...                                                ...  \n",
      "327  BEELICK  BANCO ACTINVER, S.A. INSTITUCIÓN DE BANCA MÚLT...  \n",
      "328   AA2CPI  BANCO INVEX, S.A., INSTITUCION DE BANCA MULTIP...  \n",
      "329      AMX                      AMERICA MOVIL, S.A.B. DE C.V.  \n",
      "330  LIVEPOL             EL PUERTO DE LIVERPOOL, S.A.B. DE C.V.  \n",
      "331   IGS3CK  BANCO INVEX, S.A., INSTITUCION DE BANCA MULTIP...  \n",
      "\n",
      "[332 rows x 4 columns]\n"
     ]
    }
   ],
   "source": [
    "import pandas as pd\n",
    "df=pd.read_csv('bivamx1.csv')\n",
    "print(df)"
   ]
  },
  {
   "cell_type": "code",
   "execution_count": null,
   "id": "asian-alias",
   "metadata": {},
   "outputs": [],
   "source": []
  }
 ],
 "metadata": {
  "kernelspec": {
   "display_name": "Python 3",
   "language": "python",
   "name": "python3"
  },
  "language_info": {
   "codemirror_mode": {
    "name": "ipython",
    "version": 3
   },
   "file_extension": ".py",
   "mimetype": "text/x-python",
   "name": "python",
   "nbconvert_exporter": "python",
   "pygments_lexer": "ipython3",
   "version": "3.6.9"
  }
 },
 "nbformat": 4,
 "nbformat_minor": 5
}
