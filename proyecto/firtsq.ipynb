{
 "cells": [
  {
   "cell_type": "code",
   "execution_count": 13,
   "id": "present-drain",
   "metadata": {},
   "outputs": [],
   "source": [
    "import pandas as pd\n",
    "df = pd.read_csv('stock_market.csv',low_memory=False)"
   ]
  },
  {
   "cell_type": "code",
   "execution_count": 14,
   "id": "pursuant-malawi",
   "metadata": {},
   "outputs": [
    {
     "name": "stdout",
     "output_type": "stream",
     "text": [
      "0       28.6358\n",
      "1       18.5000\n",
      "2        9.9600\n",
      "3       13.9000\n",
      "4       21.2500\n",
      "         ...   \n",
      "3757    12.4350\n",
      "3758    20.0000\n",
      "3759     5.8500\n",
      "3760    13.0000\n",
      "3761    16.2500\n",
      "Name: closeDay0, Length: 3762, dtype: float64\n"
     ]
    }
   ],
   "source": [
    "print(df['closeDay0'])"
   ]
  },
  {
   "cell_type": "code",
   "execution_count": 17,
   "id": "appropriate-passage",
   "metadata": {},
   "outputs": [
    {
     "name": "stdout",
     "output_type": "stream",
     "text": [
      "1512035.7454957203\n"
     ]
    }
   ],
   "source": [
    "\n",
    "print(df['closeDay0'].mean())"
   ]
  },
  {
   "cell_type": "code",
   "execution_count": null,
   "id": "electoral-system",
   "metadata": {},
   "outputs": [],
   "source": []
  }
 ],
 "metadata": {
  "kernelspec": {
   "display_name": "Python 3",
   "language": "python",
   "name": "python3"
  },
  "language_info": {
   "codemirror_mode": {
    "name": "ipython",
    "version": 3
   },
   "file_extension": ".py",
   "mimetype": "text/x-python",
   "name": "python",
   "nbconvert_exporter": "python",
   "pygments_lexer": "ipython3",
   "version": "3.6.9"
  }
 },
 "nbformat": 4,
 "nbformat_minor": 5
}
