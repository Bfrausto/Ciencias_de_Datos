{
 "cells": [
  {
   "cell_type": "code",
   "execution_count": 2,
   "id": "heavy-conducting",
   "metadata": {},
   "outputs": [],
   "source": [
    "import pandas as pd\n",
    "df = pd.read_csv('yahoofinance-FAANG.csv')\n",
    "#df.Open.astype(\"string\")\n",
    "\n",
    "#df.Open.str.replace(',', '', regex=True)\n",
    "#df.Open.astype(float)\n",
    "\n",
    "dict = {'Empresa':[\"Netflix\",\"Facebook\",\"Apple\",\"Amazon\",\"Google\"],\n",
    "        '2020':[]};"
   ]
  },
  {
   "cell_type": "code",
   "execution_count": 61,
   "id": "mighty-bahamas",
   "metadata": {},
   "outputs": [
    {
     "name": "stdout",
     "output_type": "stream",
     "text": [
      "1212    1,751.88\n",
      "Name: Close*, dtype: object\n",
      "148.59033078880407\n",
      "1212    1,751.88\n",
      "Name: Close*, dtype: object\n",
      "148.59033078880407\n"
     ]
    }
   ],
   "source": [
    "df\n",
    "def append2020(empresa):\n",
    "    busqueda= df.loc[df['Empresa']==empresa]\n",
    "    x=busqueda.loc[busqueda[\"Date\"]=='Dec 31, 2020','Close*']\n",
    "    print(x)\n",
    "    x=float(x[1212].replace(',',''))\n",
    "    y=busqueda.loc[busqueda[\"Date\"]=='Mar 13, 2020','Open']\n",
    "    y=float(y[1169].replace(',',''))\n",
    "    return x*100/y\n",
    "print(append2020('Google'))\n",
    "print(append2020('Google'))"
   ]
  },
  {
   "cell_type": "code",
   "execution_count": 62,
   "id": "medium-cincinnati",
   "metadata": {},
   "outputs": [],
   "source": [
    "apple= df.loc[df['Empresa']=='Apple']\n",
    "#print(apple)\n",
    "x=float(apple.loc[apple[\"Date\"]=='Dec 31, 2020','Close*'])\n",
    "y=float(apple.loc[apple[\"Date\"]=='Mar 13, 2020','Open'])\n",
    "dict[\"2020\"].append(x*100/y)\n"
   ]
  },
  {
   "cell_type": "code",
   "execution_count": 63,
   "id": "healthy-inspector",
   "metadata": {},
   "outputs": [],
   "source": [
    "facebook= df.loc[df['Empresa']=='Facebook']\n",
    "#print(facebook)\n",
    "x=float(facebook.loc[facebook[\"Date\"]=='Dec 31, 2020','Close*'])\n",
    "y=float(facebook.loc[facebook[\"Date\"]=='Mar 13, 2020','Open'])\n",
    "dict[\"2020\"].append(x*100/y)"
   ]
  },
  {
   "cell_type": "code",
   "execution_count": 64,
   "id": "supreme-anaheim",
   "metadata": {},
   "outputs": [
    {
     "name": "stdout",
     "output_type": "stream",
     "text": [
      "     web-scraper-order                              web-scraper-start-url  \\\n",
      "0      1615774484-2636  https://finance.yahoo.com/quote/AAPL/history?p...   \n",
      "1      1615774484-2763  https://finance.yahoo.com/quote/AAPL/history?p...   \n",
      "2      1615774484-2628  https://finance.yahoo.com/quote/AAPL/history?p...   \n",
      "3      1615774484-2697  https://finance.yahoo.com/quote/AAPL/history?p...   \n",
      "4      1615774484-2785  https://finance.yahoo.com/quote/AAPL/history?p...   \n",
      "...                ...                                                ...   \n",
      "1255   1615775549-3674  https://finance.yahoo.com/quote/GOOG/history?p...   \n",
      "1256   1615775549-3727  https://finance.yahoo.com/quote/GOOG/history?p...   \n",
      "1257   1615775549-3803  https://finance.yahoo.com/quote/GOOG/history?p...   \n",
      "1258   1615775549-3823  https://finance.yahoo.com/quote/GOOG/history?p...   \n",
      "1259   1615775549-3645  https://finance.yahoo.com/quote/GOOG/history?p...   \n",
      "\n",
      "           Date      Open      High       Low    Close* Adj Close**  \\\n",
      "0    2021-01-06    127.72    131.05    126.38     126.6      126.41   \n",
      "1    2020-07-10     95.33     95.98     94.71     95.92       95.44   \n",
      "2    2021-01-19    127.78    128.71    126.94    127.83      127.64   \n",
      "3    2020-10-09    115.28       117    114.92    116.97      116.59   \n",
      "4    2020-06-09     83.04      86.4        83        86       85.57   \n",
      "...         ...       ...       ...       ...       ...         ...   \n",
      "1255 2020-11-27  1,773.09  1,804.00  1,772.44  1,793.19    1,793.19   \n",
      "1256 2020-09-14  1,539.01  1,564.00  1,515.74  1,519.28    1,519.28   \n",
      "1257 2020-05-27  1,417.25  1,421.74  1,391.29  1,417.84    1,417.84   \n",
      "1258 2020-04-28  1,287.93  1,288.05  1,232.20  1,233.67    1,233.67   \n",
      "1259 2021-01-11  1,786.07  1,794.31  1,760.52  1,766.72    1,766.72   \n",
      "\n",
      "           Volume Empresa  \n",
      "0     155,088,000   Apple  \n",
      "1      90,257,200   Apple  \n",
      "2      90,757,300   Apple  \n",
      "3     100,506,900   Apple  \n",
      "4     147,712,400   Apple  \n",
      "...           ...     ...  \n",
      "1255      884,900  Google  \n",
      "1256    1,696,600  Google  \n",
      "1257    1,685,800  Google  \n",
      "1258    2,951,300  Google  \n",
      "1259    1,209,700  Google  \n",
      "\n",
      "[1260 rows x 10 columns]\n"
     ]
    }
   ],
   "source": [
    "new=df.loc[df[\"Date\"]=='Dec 31, 2020','Empresa'].to_frame()\n",
    "new['Open']=df.loc[df[\"Date\"]=='Dec 31, 2020','Open']\n",
    "new['Close']=df.loc[df[\"Date\"]=='Dec 31, 2020','Close*']\n",
    "#new['Rendimiento']=float(new['Close'])*100/float(new['Open'])\n",
    "df['Date'] = pd.to_datetime(df['Date'])\n",
    "\n",
    "print(df)"
   ]
  },
  {
   "cell_type": "code",
   "execution_count": 65,
   "id": "careful-helicopter",
   "metadata": {},
   "outputs": [],
   "source": [
    "amazon= df.loc[df['Empresa']=='Amazon']\n",
    "#print(amazon)\n",
    "x=amazon.loc[amazon[\"Date\"]=='Dec 31, 2020','Close*']\n",
    "x=float(x[270].replace(',',''))\n",
    "\n",
    "y=amazon.loc[amazon[\"Date\"]=='Mar 13, 2020','Open'].replace(',', '')\n",
    "y=float(y[396].replace(',',''))\n",
    "dict[\"2020\"].append(x*100/y)"
   ]
  },
  {
   "cell_type": "code",
   "execution_count": 66,
   "id": "timely-model",
   "metadata": {},
   "outputs": [
    {
     "name": "stdout",
     "output_type": "stream",
     "text": [
      "1212    1,751.88\n",
      "Name: Close*, dtype: object\n",
      "1169    1,179.00\n",
      "Name: Open, dtype: object\n"
     ]
    }
   ],
   "source": [
    "google= df.loc[df['Empresa']=='Google']\n",
    "#print(google)\n",
    "x=google.loc[google[\"Date\"]=='Dec 31, 2020','Close*']\n",
    "print(x)\n",
    "x=float(x[1212].replace(',',''))\n",
    "y=google.loc[google[\"Date\"]=='Mar 13, 2020','Open']\n",
    "print(y)\n",
    "y=float(y[1169].replace(',',''))\n",
    "dict[\"2020\"].append(x*100/y)"
   ]
  },
  {
   "cell_type": "code",
   "execution_count": 67,
   "id": "novel-intermediate",
   "metadata": {
    "scrolled": true
   },
   "outputs": [],
   "source": [
    "netflix= df.loc[df['Empresa']=='Netflix']\n",
    "#print(netflix)\n",
    "x=float(netflix.loc[netflix[\"Date\"]=='Dec 31, 2020','Close*'])\n",
    "y=float(netflix.loc[netflix[\"Date\"]=='Mar 13, 2020','Open'])\n",
    "dict[\"2020\"].append(x*100/y)"
   ]
  },
  {
   "cell_type": "code",
   "execution_count": 69,
   "id": "deluxe-involvement",
   "metadata": {},
   "outputs": [
    {
     "name": "stdout",
     "output_type": "stream",
     "text": [
      "{'Empresa': ['Netflix', 'Facebook', 'Apple', 'Amazon', 'Google'], '2020': [200.3775294472969, 167.03968690760107, 185.58005698005698, 148.59033078880407, 163.60473208072372]}\n",
      "La FAANG con mejor rendimiento en 2020 fue Netflix con un crecimiento de 200.3775294472969%\n"
     ]
    }
   ],
   "source": [
    "#print(dict)\n",
    "dff = pd.DataFrame(data=dict)\n",
    "print(dict)\n",
    "result=dff.loc[dff['2020'].idxmax()]\n",
    "print('La FAANG con mejor rendimiento en 2020 fue {} con un crecimiento de {}%'.format(result['Empresa'], result['2020']))"
   ]
  },
  {
   "cell_type": "code",
   "execution_count": 12,
   "id": "vital-transportation",
   "metadata": {},
   "outputs": [
    {
     "name": "stdout",
     "output_type": "stream",
     "text": [
      "Empty DataFrame\n",
      "Columns: [web-scraper-order, web-scraper-start-url, Date, Open, High, Low, Close*, Adj Close**, Volume]\n",
      "Index: []\n",
      "La FAANG con mejor rendimiento en 2020 fue Apple con un crecimiento de 200.38%\n",
      "La FAANG con mejor rendimiento en 2021 fue Google con un crecimiento de 117.32%\n"
     ]
    }
   ],
   "source": [
    "import datetime\n",
    "df = pd.read_csv('yahoofinance-FAANG.csv')\n",
    "df=df.set_index('Empresa')\n",
    "df20=df[(df['Date'] > '2020-01-01') & (df['Date'] < '2020-31-12')]\n",
    "print(df20)\n",
    "\n",
    "data=df.loc[df[\"Date\"]=='Mar 13, 2020','Open'].replace(',', '', regex=True).astype(float).to_frame() \n",
    "data=data.rename(columns={\"Open\": \"Open20\"})\n",
    "data['Close20']=df.loc[df[\"Date\"]=='Dec 31, 2020','Close*'].replace(',', '', regex=True).astype(float)\n",
    "data['2020']=data['Close20']*100/data['Open20']\n",
    "#print(data)\n",
    "print('La FAANG con mejor rendimiento en 2020 fue {} con un crecimiento de {}%'.\n",
    "      format(data['2020'].idxmax(), round(data['2020'].max(),2)))\n",
    "\n",
    "\n",
    "data['Open21']=df.loc[df[\"Date\"]=='Jan 04, 2021','Open'].replace(',', '', regex=True).astype(float)\n",
    "data['Close21']=df.loc[df[\"Date\"]=='Mar 12, 2021','Close*'].replace(',', '', regex=True).astype(float)\n",
    "data['2021']=data['Close21']*100/data['Open21']\n",
    "#print(data)\n",
    "print('La FAANG con mejor rendimiento en 2021 fue {} con un crecimiento de {}%'.\n",
    "      format(data['2021'].idxmax(), round(data['2021'].max(),2)))\n"
   ]
  },
  {
   "cell_type": "code",
   "execution_count": 28,
   "id": "silent-pleasure",
   "metadata": {},
   "outputs": [
    {
     "name": "stdout",
     "output_type": "stream",
     "text": [
      "        web-scraper-order                              web-scraper-start-url  \\\n",
      "Empresa                                                                        \n",
      "Apple     1615774484-2763  https://finance.yahoo.com/quote/AAPL/history?p...   \n",
      "Apple     1615774484-2697  https://finance.yahoo.com/quote/AAPL/history?p...   \n",
      "Apple     1615774484-2785  https://finance.yahoo.com/quote/AAPL/history?p...   \n",
      "Apple     1615774484-2754  https://finance.yahoo.com/quote/AAPL/history?p...   \n",
      "Apple     1615774484-2656  https://finance.yahoo.com/quote/AAPL/history?p...   \n",
      "...                   ...                                                ...   \n",
      "Google    1615775549-3818  https://finance.yahoo.com/quote/GOOG/history?p...   \n",
      "Google    1615775549-3674  https://finance.yahoo.com/quote/GOOG/history?p...   \n",
      "Google    1615775549-3727  https://finance.yahoo.com/quote/GOOG/history?p...   \n",
      "Google    1615775549-3803  https://finance.yahoo.com/quote/GOOG/history?p...   \n",
      "Google    1615775549-3823  https://finance.yahoo.com/quote/GOOG/history?p...   \n",
      "\n",
      "              Date      Open      High       Low    Close* Adj Close**  \\\n",
      "Empresa                                                                  \n",
      "Apple   2020-07-10     95.33     95.98     94.71     95.92       95.44   \n",
      "Apple   2020-10-09    115.28       117    114.92    116.97      116.59   \n",
      "Apple   2020-06-09     83.04      86.4        83        86       85.57   \n",
      "Apple   2020-07-23        97     97.08     92.01     92.85       92.38   \n",
      "Apple   2020-12-07    122.31    124.57    122.25    123.75      123.57   \n",
      "...            ...       ...       ...       ...       ...         ...   \n",
      "Google  2020-05-05  1,337.92  1,373.94  1,337.46  1,351.11    1,351.11   \n",
      "Google  2020-11-27  1,773.09  1,804.00  1,772.44  1,793.19    1,793.19   \n",
      "Google  2020-09-14  1,539.01  1,564.00  1,515.74  1,519.28    1,519.28   \n",
      "Google  2020-05-27  1,417.25  1,421.74  1,391.29  1,417.84    1,417.84   \n",
      "Google  2020-04-28  1,287.93  1,288.05  1,232.20  1,233.67    1,233.67   \n",
      "\n",
      "              Volume  \n",
      "Empresa               \n",
      "Apple     90,257,200  \n",
      "Apple    100,506,900  \n",
      "Apple    147,712,400  \n",
      "Apple    197,004,400  \n",
      "Apple     86,712,000  \n",
      "...              ...  \n",
      "Google     1,651,500  \n",
      "Google       884,900  \n",
      "Google     1,696,600  \n",
      "Google     1,685,800  \n",
      "Google     2,951,300  \n",
      "\n",
      "[1020 rows x 9 columns]\n"
     ]
    }
   ],
   "source": [
    "from datetime import datetime\n",
    "df = pd.read_csv('yahoofinance-FAANG.csv')\n",
    "df=df.set_index('Empresa')\n",
    "\n",
    "df['Date']=pd.to_datetime(df['Date'])\n",
    "#print(df)\n",
    "datetime_str = '09/19/18 13:55:26'\n",
    "\n",
    "datetime_object = datetime.strptime(datetime_str, '%m/%d/%y %H:%M:%S')\n",
    "df20=df.loc[(df['Date'] > datetime.strptime('20-01-01', '%y-%m-%d')) \n",
    "            & (df['Date'] < datetime.strptime('21-01-01', '%y-%m-%d')) ]\n",
    "print(df20)\n"
   ]
  },
  {
   "cell_type": "code",
   "execution_count": 54,
   "id": "genuine-pickup",
   "metadata": {},
   "outputs": [
    {
     "ename": "SyntaxError",
     "evalue": "invalid syntax (<ipython-input-54-8110e0985422>, line 6)",
     "output_type": "error",
     "traceback": [
      "\u001b[0;36m  File \u001b[0;32m\"<ipython-input-54-8110e0985422>\"\u001b[0;36m, line \u001b[0;32m6\u001b[0m\n\u001b[0;31m    data[=new\u001b[0m\n\u001b[0m         ^\u001b[0m\n\u001b[0;31mSyntaxError\u001b[0m\u001b[0;31m:\u001b[0m invalid syntax\n"
     ]
    }
   ],
   "source": [
    "new=df.loc[df[\"Date\"]=='Dec 31, 2020','Empresa'].to_frame() \n",
    "new=new.reset_index()\n",
    "data=new\n",
    "new=df.loc[df[\"Date\"]=='Mar 13, 2020','Open'].to_frame() \n",
    "new.index=data.index\n",
    "data[=new\n",
    "data['Open']=new\n",
    "\n",
    "new['Close']=df.loc[df[\"Date\"]=='Dec 31, 2020','Close*'].replace(',', '', regex=True).astype(float)\n",
    "new['2020']=new['Close']*100/new['Open']\n",
    "print(data)"
   ]
  },
  {
   "cell_type": "code",
   "execution_count": null,
   "id": "antique-raise",
   "metadata": {},
   "outputs": [],
   "source": [
    "data['Open']=new['Open']\n",
    "\n",
    "new=df.loc[df[\"Date\"]=='Dec 31, 2020','Close*'].replace(',', '', regex=True).astype(float)\n",
    "new=new.reset_index()\n",
    "data['Close']=new['Close*']\n",
    "\n",
    "data['2020']=data['Close']*100/data['Open']"
   ]
  }
 ],
 "metadata": {
  "kernelspec": {
   "display_name": "Python 3",
   "language": "python",
   "name": "python3"
  },
  "language_info": {
   "codemirror_mode": {
    "name": "ipython",
    "version": 3
   },
   "file_extension": ".py",
   "mimetype": "text/x-python",
   "name": "python",
   "nbconvert_exporter": "python",
   "pygments_lexer": "ipython3",
   "version": "3.6.9"
  }
 },
 "nbformat": 4,
 "nbformat_minor": 5
}
